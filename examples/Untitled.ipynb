{
 "cells": [
  {
   "cell_type": "code",
   "execution_count": 20,
   "id": "f6242e46-3972-4898-a782-d7cc1a243c41",
   "metadata": {},
   "outputs": [],
   "source": [
    "import kagglehub\n",
    "import polars as pl\n",
    "from pathlib import Path"
   ]
  },
  {
   "cell_type": "code",
   "execution_count": 21,
   "id": "79f39713-4f4f-4e53-ab35-844353ddb35a",
   "metadata": {},
   "outputs": [],
   "source": [
    "path = Path(kagglehub.dataset_download(\"thedevastator/unlock-profits-with-e-commerce-sales-data\"))"
   ]
  },
  {
   "cell_type": "code",
   "execution_count": 46,
   "id": "40444f7a-7ffa-43a2-8587-64b7ab3fd422",
   "metadata": {},
   "outputs": [],
   "source": [
    "data = (\n",
    "    pl.scan_csv(path / \"Amazon Sale Report.csv\")\n",
    "    .select([\n",
    "        pl.col(\"Date\"),\n",
    "        pl.col(\"Fulfilment\"),\n",
    "        pl.col(\"Style\"),\n",
    "        pl.col(\"SKU\"),\n",
    "        pl.col(\"Category\"),\n",
    "        pl.col(\"Size\"),\n",
    "        pl.col(\"Courier Status\"),\n",
    "        pl.col(\"Qty\"),\n",
    "        pl.col(\"Amount\"),\n",
    "        pl.col(\"ship-city\"),\n",
    "        pl.col(\"ship-state\"),\n",
    "        pl.col(\"ship-postal-code\"),\n",
    "        pl.col(\"ship-country\"),\n",
    "        pl.col(\"promotion-ids\"),\n",
    "        # pl.col(\"B2B\"),\n",
    "    ])\n",
    ").collect()"
   ]
  },
  {
   "cell_type": "code",
   "execution_count": 47,
   "id": "e0d9a904-1523-4abb-bedd-eed841079ef7",
   "metadata": {},
   "outputs": [
    {
     "data": {
      "text/html": [
       "<div><style>\n",
       ".dataframe > thead > tr,\n",
       ".dataframe > tbody > tr {\n",
       "  text-align: right;\n",
       "  white-space: pre-wrap;\n",
       "}\n",
       "</style>\n",
       "<small>shape: (5, 15)</small><table border=\"1\" class=\"dataframe\"><thead><tr><th>Date</th><th>Fulfilment</th><th>Style</th><th>SKU</th><th>Category</th><th>Size</th><th>Courier Status</th><th>Qty</th><th>Amount</th><th>ship-city</th><th>ship-state</th><th>ship-postal-code</th><th>ship-country</th><th>promotion-ids</th><th>B2B</th></tr><tr><td>str</td><td>str</td><td>str</td><td>str</td><td>str</td><td>str</td><td>str</td><td>i64</td><td>f64</td><td>str</td><td>str</td><td>f64</td><td>str</td><td>str</td><td>bool</td></tr></thead><tbody><tr><td>&quot;04-30-22&quot;</td><td>&quot;Merchant&quot;</td><td>&quot;SET389&quot;</td><td>&quot;SET389-KR-NP-S&quot;</td><td>&quot;Set&quot;</td><td>&quot;S&quot;</td><td>null</td><td>0</td><td>647.62</td><td>&quot;MUMBAI&quot;</td><td>&quot;MAHARASHTRA&quot;</td><td>400081.0</td><td>&quot;IN&quot;</td><td>null</td><td>false</td></tr><tr><td>&quot;04-30-22&quot;</td><td>&quot;Merchant&quot;</td><td>&quot;JNE3781&quot;</td><td>&quot;JNE3781-KR-XXXL&quot;</td><td>&quot;kurta&quot;</td><td>&quot;3XL&quot;</td><td>&quot;Shipped&quot;</td><td>1</td><td>406.0</td><td>&quot;BENGALURU&quot;</td><td>&quot;KARNATAKA&quot;</td><td>560085.0</td><td>&quot;IN&quot;</td><td>&quot;Amazon PLCC Free-Financing Uni…</td><td>false</td></tr><tr><td>&quot;04-30-22&quot;</td><td>&quot;Amazon&quot;</td><td>&quot;JNE3371&quot;</td><td>&quot;JNE3371-KR-XL&quot;</td><td>&quot;kurta&quot;</td><td>&quot;XL&quot;</td><td>&quot;Shipped&quot;</td><td>1</td><td>329.0</td><td>&quot;NAVI MUMBAI&quot;</td><td>&quot;MAHARASHTRA&quot;</td><td>410210.0</td><td>&quot;IN&quot;</td><td>&quot;IN Core Free Shipping 2015/04/…</td><td>true</td></tr><tr><td>&quot;04-30-22&quot;</td><td>&quot;Merchant&quot;</td><td>&quot;J0341&quot;</td><td>&quot;J0341-DR-L&quot;</td><td>&quot;Western Dress&quot;</td><td>&quot;L&quot;</td><td>null</td><td>0</td><td>753.33</td><td>&quot;PUDUCHERRY&quot;</td><td>&quot;PUDUCHERRY&quot;</td><td>605008.0</td><td>&quot;IN&quot;</td><td>null</td><td>false</td></tr><tr><td>&quot;04-30-22&quot;</td><td>&quot;Amazon&quot;</td><td>&quot;JNE3671&quot;</td><td>&quot;JNE3671-TU-XXXL&quot;</td><td>&quot;Top&quot;</td><td>&quot;3XL&quot;</td><td>&quot;Shipped&quot;</td><td>1</td><td>574.0</td><td>&quot;CHENNAI&quot;</td><td>&quot;TAMIL NADU&quot;</td><td>600073.0</td><td>&quot;IN&quot;</td><td>null</td><td>false</td></tr></tbody></table></div>"
      ],
      "text/plain": [
       "shape: (5, 15)\n",
       "┌──────────┬────────────┬─────────┬─────────────┬───┬────────────┬────────────┬────────────┬───────┐\n",
       "│ Date     ┆ Fulfilment ┆ Style   ┆ SKU         ┆ … ┆ ship-posta ┆ ship-count ┆ promotion- ┆ B2B   │\n",
       "│ ---      ┆ ---        ┆ ---     ┆ ---         ┆   ┆ l-code     ┆ ry         ┆ ids        ┆ ---   │\n",
       "│ str      ┆ str        ┆ str     ┆ str         ┆   ┆ ---        ┆ ---        ┆ ---        ┆ bool  │\n",
       "│          ┆            ┆         ┆             ┆   ┆ f64        ┆ str        ┆ str        ┆       │\n",
       "╞══════════╪════════════╪═════════╪═════════════╪═══╪════════════╪════════════╪════════════╪═══════╡\n",
       "│ 04-30-22 ┆ Merchant   ┆ SET389  ┆ SET389-KR-N ┆ … ┆ 400081.0   ┆ IN         ┆ null       ┆ false │\n",
       "│          ┆            ┆         ┆ P-S         ┆   ┆            ┆            ┆            ┆       │\n",
       "│ 04-30-22 ┆ Merchant   ┆ JNE3781 ┆ JNE3781-KR- ┆ … ┆ 560085.0   ┆ IN         ┆ Amazon     ┆ false │\n",
       "│          ┆            ┆         ┆ XXXL        ┆   ┆            ┆            ┆ PLCC Free- ┆       │\n",
       "│          ┆            ┆         ┆             ┆   ┆            ┆            ┆ Financing  ┆       │\n",
       "│          ┆            ┆         ┆             ┆   ┆            ┆            ┆ Uni…       ┆       │\n",
       "│ 04-30-22 ┆ Amazon     ┆ JNE3371 ┆ JNE3371-KR- ┆ … ┆ 410210.0   ┆ IN         ┆ IN Core    ┆ true  │\n",
       "│          ┆            ┆         ┆ XL          ┆   ┆            ┆            ┆ Free       ┆       │\n",
       "│          ┆            ┆         ┆             ┆   ┆            ┆            ┆ Shipping   ┆       │\n",
       "│          ┆            ┆         ┆             ┆   ┆            ┆            ┆ 2015/04/…  ┆       │\n",
       "│ 04-30-22 ┆ Merchant   ┆ J0341   ┆ J0341-DR-L  ┆ … ┆ 605008.0   ┆ IN         ┆ null       ┆ false │\n",
       "│ 04-30-22 ┆ Amazon     ┆ JNE3671 ┆ JNE3671-TU- ┆ … ┆ 600073.0   ┆ IN         ┆ null       ┆ false │\n",
       "│          ┆            ┆         ┆ XXXL        ┆   ┆            ┆            ┆            ┆       │\n",
       "└──────────┴────────────┴─────────┴─────────────┴───┴────────────┴────────────┴────────────┴───────┘"
      ]
     },
     "execution_count": 47,
     "metadata": {},
     "output_type": "execute_result"
    }
   ],
   "source": [
    "data.head()"
   ]
  },
  {
   "cell_type": "code",
   "execution_count": null,
   "id": "34d7cc17-5e6f-4404-a525-d68d48a4980b",
   "metadata": {},
   "outputs": [],
   "source": []
  }
 ],
 "metadata": {
  "kernelspec": {
   "display_name": "Python 3 (ipykernel)",
   "language": "python",
   "name": "python3"
  },
  "language_info": {
   "codemirror_mode": {
    "name": "ipython",
    "version": 3
   },
   "file_extension": ".py",
   "mimetype": "text/x-python",
   "name": "python",
   "nbconvert_exporter": "python",
   "pygments_lexer": "ipython3",
   "version": "3.12.8"
  }
 },
 "nbformat": 4,
 "nbformat_minor": 5
}
